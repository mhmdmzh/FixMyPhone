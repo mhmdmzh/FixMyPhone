{
  "cells": [
    {
      "cell_type": "markdown",
      "id": "13c6c203",
      "metadata": {
        "id": "13c6c203"
      },
      "source": [
        "\n",
        "#  FixMyPhone Pop-up\n",
        "\n",
        "> **Files**: Upload `about_business.pdf` and `business_summary.txt` in the *Files* pane (or keep them at the default paths below).\n",
        "\n",
        "\n",
        "\n",
        "\n"
      ]
    },
    {
      "cell_type": "code",
      "source": [
        "!pip install --upgrade --quiet openai==1.* gradio==4.* pypdf==4.* python-dotenv==1.*"
      ],
      "metadata": {
        "colab": {
          "base_uri": "https://localhost:8080/"
        },
        "id": "T-SMSVCe18fC",
        "outputId": "9020c7a9-8948-4173-fd34-6dd90565da34"
      },
      "id": "T-SMSVCe18fC",
      "execution_count": 1,
      "outputs": [
        {
          "output_type": "stream",
          "name": "stdout",
          "text": [
            "\u001b[2K   \u001b[90m━━━━━━━━━━━━━━━━━━━━━━━━━━━━━━━━━━━━━━━━\u001b[0m \u001b[32m18.1/18.1 MB\u001b[0m \u001b[31m96.7 MB/s\u001b[0m eta \u001b[36m0:00:00\u001b[0m\n",
            "\u001b[2K   \u001b[90m━━━━━━━━━━━━━━━━━━━━━━━━━━━━━━━━━━━━━━━━\u001b[0m \u001b[32m295.8/295.8 kB\u001b[0m \u001b[31m27.4 MB/s\u001b[0m eta \u001b[36m0:00:00\u001b[0m\n",
            "\u001b[2K   \u001b[90m━━━━━━━━━━━━━━━━━━━━━━━━━━━━━━━━━━━━━━━━\u001b[0m \u001b[32m318.7/318.7 kB\u001b[0m \u001b[31m28.2 MB/s\u001b[0m eta \u001b[36m0:00:00\u001b[0m\n",
            "\u001b[2K   \u001b[90m━━━━━━━━━━━━━━━━━━━━━━━━━━━━━━━━━━━━━━━━\u001b[0m \u001b[32m4.5/4.5 MB\u001b[0m \u001b[31m126.3 MB/s\u001b[0m eta \u001b[36m0:00:00\u001b[0m\n",
            "\u001b[2K   \u001b[90m━━━━━━━━━━━━━━━━━━━━━━━━━━━━━━━━━━━━━━━━\u001b[0m \u001b[32m131.2/131.2 kB\u001b[0m \u001b[31m12.8 MB/s\u001b[0m eta \u001b[36m0:00:00\u001b[0m\n",
            "\u001b[?25h\u001b[31mERROR: pip's dependency resolver does not currently take into account all the packages that are installed. This behaviour is the source of the following dependency conflicts.\n",
            "yfinance 0.2.66 requires websockets>=13.0, but you have websockets 12.0 which is incompatible.\n",
            "google-genai 1.44.0 requires websockets<15.1.0,>=13.0.0, but you have websockets 12.0 which is incompatible.\n",
            "dataproc-spark-connect 0.8.3 requires websockets>=14.0, but you have websockets 12.0 which is incompatible.\n",
            "google-adk 1.16.0 requires websockets<16.0.0,>=15.0.1, but you have websockets 12.0 which is incompatible.\u001b[0m\u001b[31m\n",
            "\u001b[0m"
          ]
        }
      ]
    },
    {
      "cell_type": "code",
      "source": [
        "import os\n",
        "import json\n",
        "from typing import Dict, Any, List\n",
        "\n",
        "from dotenv import load_dotenv\n",
        "from pypdf import PdfReader\n",
        "import gradio as gr\n",
        "from openai import OpenAI\n",
        "\n",
        "# --- Set your key here -------------------------------------------\n",
        "OPENAI_API_KEY: str = \"Your_API\"\n",
        "# ---------------------------------------------------------------------------\n",
        "\n",
        "if not OPENAI_API_KEY:\n",
        "    load_dotenv()  # loads variables from a local .env if present\n",
        "    OPENAI_API_KEY = os.getenv(\"OPENAI_API_KEY\", \"\")\n",
        "\n",
        "if not OPENAI_API_KEY:\n",
        "    try:\n",
        "        from getpass import getpass\n",
        "        OPENAI_API_KEY = getpass(\"Enter OPENAI_API_KEY (input hidden): \").strip()\n",
        "    except Exception:\n",
        "        pass\n",
        "\n",
        "if not OPENAI_API_KEY:\n",
        "    raise ValueError(\n",
        "        \"OPENAI_API_KEY not set. Either assign it to the OPENAI_API_KEY variable at the top \"\n",
        "        \"of this cell, define it in a .env file, set it in the environment, or enter it when prompted.\"\n",
        "    )\n",
        "\n",
        "client = OpenAI(api_key=OPENAI_API_KEY)\n",
        "print(\"OpenAI client initialized.\")\n"
      ],
      "metadata": {
        "colab": {
          "base_uri": "https://localhost:8080/"
        },
        "id": "jvBsbD0d2zrg",
        "outputId": "e51574f6-379d-4338-c0b8-2330c7cc0076"
      },
      "id": "jvBsbD0d2zrg",
      "execution_count": 2,
      "outputs": [
        {
          "output_type": "stream",
          "name": "stdout",
          "text": [
            "OpenAI client initialized.\n"
          ]
        }
      ]
    },
    {
      "cell_type": "code",
      "execution_count": 3,
      "id": "45211e1e",
      "metadata": {
        "colab": {
          "base_uri": "https://localhost:8080/"
        },
        "id": "45211e1e",
        "outputId": "e8400863-e63b-4534-9e6d-0b45c311cedb"
      },
      "outputs": [
        {
          "output_type": "stream",
          "name": "stdout",
          "text": [
            "Summary chars: 794\n",
            "PDF chars    : 2264\n"
          ]
        }
      ],
      "source": [
        "# Default paths\n",
        "SUMMARY_TXT_PATH = \"business_summary.txt\"\n",
        "ABOUT_PDF_PATH = \"about_business.pdf\"\n",
        "\n",
        "# If you're running this directly from the provided files in this environment,\n",
        "# you can also point here:\n",
        "alt_txt = \"/mnt/data/business_summary.txt\"\n",
        "alt_pdf = \"/mnt/data/about_business.pdf\"\n",
        "\n",
        "if os.path.exists(alt_txt):\n",
        "    SUMMARY_TXT_PATH = alt_txt\n",
        "if os.path.exists(alt_pdf):\n",
        "    ABOUT_PDF_PATH = alt_pdf\n",
        "\n",
        "def read_txt(path: str) -> str:\n",
        "    try:\n",
        "        with open(path, \"r\", encoding=\"utf-8\") as f:\n",
        "            return f.read()\n",
        "    except FileNotFoundError:\n",
        "        return \"\"\n",
        "\n",
        "def read_pdf_text(path: str) -> str:\n",
        "    if not os.path.exists(path):\n",
        "        return \"\"\n",
        "    text_parts = []\n",
        "    try:\n",
        "        reader = PdfReader(path)\n",
        "        for page in reader.pages:\n",
        "            text_parts.append(page.extract_text() or \"\")\n",
        "    except Exception as e:\n",
        "        print(f\"PDF read error: {e}\")\n",
        "    return \"\\n\".join(text_parts)\n",
        "\n",
        "business_summary = read_txt(SUMMARY_TXT_PATH)\n",
        "about_business_text = read_pdf_text(ABOUT_PDF_PATH)\n",
        "\n",
        "print(\"Summary chars:\", len(business_summary))\n",
        "print(\"PDF chars    :\", len(about_business_text))\n"
      ]
    },
    {
      "cell_type": "code",
      "execution_count": 4,
      "id": "6299e7f5",
      "metadata": {
        "colab": {
          "base_uri": "https://localhost:8080/"
        },
        "id": "6299e7f5",
        "outputId": "8cee29c7-3a67-4635-af1f-a4e5306385aa"
      },
      "outputs": [
        {
          "output_type": "stream",
          "name": "stdout",
          "text": [
            "\n",
            "You are FixMyPhone Pop-Up — a friendly mobile device repair kiosk network assistant.\n",
            "Stay strictly in character and answer using the provided business docs.\n",
            "\n",
            "PRIMARY SOURCES (verbatim content available to you):\n",
            "--- business_summary.txt ---\n",
            "FixMyPhone Pop-Up — Business Summary\n",
            "\n",
            "What we do\n",
            "AI-assisted mobile device repair kiosks in malls and transit hubs. The agent quotes repairs by device model/issue, captures leads (device + email + preferred kiosk), and logs specialist questions for human follow-up.\n",
            "\n",
            "Mission\n",
            "Make everyday repairs fast, transparent, and trustworthy—combining skilled techs, ESD-safe processes, and a helpful agent—while protecting customer data and devices.\n",
            "\n",
            "Services (high level)\n",
            "• Lead capture (device, email, preferred kiosk).\n",
            "• Unknown-Q guardrail for specialist questions\n"
          ]
        }
      ],
      "source": [
        "\n",
        "SYSTEM_PROMPT = f\"\"\"\n",
        "You are FixMyPhone Pop-Up — a friendly mobile device repair kiosk network assistant.\n",
        "Stay strictly in character and answer using the provided business docs.\n",
        "\n",
        "PRIMARY SOURCES (verbatim content available to you):\n",
        "--- business_summary.txt ---\n",
        "{business_summary}\n",
        "\n",
        "--- about_business.pdf (OCR) ---\n",
        "{about_business_text}\n",
        "---\n",
        "\n",
        "CORE BEHAVIOR\n",
        "- Be concise, helpful, and transparent.\n",
        "- Use only the above documents for facts about the business.\n",
        "- Collect leads politely: name, email, device model/issue, preferred kiosk, notes.\n",
        "- If you are unsure or a part seems rare/out-of-catalog, DO NOT guess.\n",
        "  Call the tool: record_feedback(question) and offer alternatives (ETA, referral, diagnostics).\n",
        "- Encourage leaving contact info for follow-up.\n",
        "- Boundaries: no device content access; no bypasses; defer to official OEM policies.\n",
        "\n",
        "TOOLS YOU CAN CALL\n",
        "1) record_customer_interest(email, name, message)\n",
        "   Use when user requests a quote/booking or shares interest.\n",
        "2) record_feedback(question)\n",
        "   Use when you are uncertain or the question requires human follow-up.\n",
        "\n",
        "When calling tools, supply all fields. After a tool runs, continue assisting the user.\n",
        "\n",
        "STYLE\n",
        "- Friendly, professional tone.\n",
        "- One-paragraph answers unless lists improve clarity.\n",
        "\"\"\"\n",
        "print(SYSTEM_PROMPT[:800])\n"
      ]
    },
    {
      "cell_type": "code",
      "execution_count": 5,
      "id": "c3d7bb26",
      "metadata": {
        "id": "c3d7bb26"
      },
      "outputs": [],
      "source": [
        "import csv\n",
        "from datetime import datetime\n",
        "\n",
        "LOG_DIR = \"logs\"\n",
        "os.makedirs(LOG_DIR, exist_ok=True)\n",
        "LEADS_CSV = os.path.join(LOG_DIR, \"leads.csv\")\n",
        "FEEDBACK_CSV = os.path.join(LOG_DIR, \"feedback.csv\")\n",
        "\n",
        "# Initialize CSVs with headers if they don't exist\n",
        "if not os.path.exists(LEADS_CSV):\n",
        "    with open(LEADS_CSV, \"w\", newline=\"\", encoding=\"utf-8\") as f:\n",
        "        writer = csv.writer(f)\n",
        "        writer.writerow([\"ts_iso\", \"email\", \"name\", \"message\"])\n",
        "\n",
        "if not os.path.exists(FEEDBACK_CSV):\n",
        "    with open(FEEDBACK_CSV, \"w\", newline=\"\", encoding=\"utf-8\") as f:\n",
        "        writer = csv.writer(f)\n",
        "        writer.writerow([\"ts_iso\", \"question\"])\n",
        "\n",
        "def record_customer_interest(email: str, name: str, message: str) -> str:\n",
        "    ts = datetime.utcnow().isoformat()\n",
        "    with open(LEADS_CSV, \"a\", newline=\"\", encoding=\"utf-8\") as f:\n",
        "        csv.writer(f).writerow([ts, email, name, message])\n",
        "    print(f\"[LEAD] {ts} | {name} <{email}>: {message}\")\n",
        "    return f\"Lead recorded for {name} <{email}> at {ts}.\"\n",
        "\n",
        "def record_feedback(question: str) -> str:\n",
        "    ts = datetime.utcnow().isoformat()\n",
        "    with open(FEEDBACK_CSV, \"a\", newline=\"\", encoding=\"utf-8\") as f:\n",
        "        csv.writer(f).writerow([ts, question])\n",
        "    print(f\"[FEEDBACK] {ts} | {question}\")\n",
        "    return f\"Thanks! I've logged this for a human specialist to follow up. Ref ts: {ts}.\"\n"
      ]
    },
    {
      "cell_type": "code",
      "execution_count": 6,
      "id": "65e71d81",
      "metadata": {
        "id": "65e71d81"
      },
      "outputs": [],
      "source": [
        "tools = [\n",
        "    {\n",
        "        \"type\": \"function\",\n",
        "        \"function\": {\n",
        "            \"name\": \"record_customer_interest\",\n",
        "            \"description\": \"Log a potential customer lead (name, email, message/notes).\",\n",
        "            \"parameters\": {\n",
        "                \"type\": \"object\",\n",
        "                \"properties\": {\n",
        "                    \"email\": {\"type\": \"string\", \"description\": \"Customer email\"},\n",
        "                    \"name\": {\"type\": \"string\", \"description\": \"Customer name\"},\n",
        "                    \"message\": {\"type\": \"string\", \"description\": \"Lead notes / device & issue & preferred kiosk\"}\n",
        "                },\n",
        "                \"required\": [\"email\", \"name\", \"message\"]\n",
        "            },\n",
        "        },\n",
        "    },\n",
        "    {\n",
        "        \"type\": \"function\",\n",
        "        \"function\": {\n",
        "            \"name\": \"record_feedback\",\n",
        "            \"description\": \"Log an unknown/uncertain question to trigger human follow-up.\",\n",
        "            \"parameters\": {\n",
        "                \"type\": \"object\",\n",
        "                \"properties\": {\n",
        "                    \"question\": {\"type\": \"string\", \"description\": \"The user's question requiring review\"}\n",
        "                },\n",
        "                \"required\": [\"question\"]\n",
        "            },\n",
        "        },\n",
        "    },\n",
        "]\n",
        "\n",
        "def call_openai(messages: List[Dict[str, Any]]) -> Dict[str, Any]:\n",
        "    resp = client.chat.completions.create(\n",
        "        model=\"gpt-4o-mini\",\n",
        "        messages=messages,\n",
        "        tools=tools,\n",
        "        tool_choice=\"auto\",\n",
        "        temperature=0.3,\n",
        "        max_tokens=600,\n",
        "    )\n",
        "    return resp.model_dump()\n",
        "\n",
        "def run_agent(user_msg: str, history: List[Dict[str, str]]) -> str:\n",
        "    messages = [{\"role\": \"system\", \"content\": SYSTEM_PROMPT}]\n",
        "    for h in history:\n",
        "        messages.append({\"role\": \"user\", \"content\": h[\"user\"]})\n",
        "        messages.append({\"role\": \"assistant\", \"content\": h[\"assistant\"]})\n",
        "    messages.append({\"role\": \"user\", \"content\": user_msg})\n",
        "\n",
        "    response = call_openai(messages)\n",
        "    choice = response[\"choices\"][0]\n",
        "    msg = choice[\"message\"]\n",
        "\n",
        "    tool_outputs = []\n",
        "    if \"tool_calls\" in msg and msg[\"tool_calls\"]:\n",
        "        for tool_call in msg[\"tool_calls\"]:\n",
        "            fn_name = tool_call[\"function\"][\"name\"]\n",
        "            args = json.loads(tool_call[\"function\"][\"arguments\"] or \"{}\")\n",
        "\n",
        "            if fn_name == \"record_customer_interest\":\n",
        "                out = record_customer_interest(**args)\n",
        "            elif fn_name == \"record_feedback\":\n",
        "                out = record_feedback(**args)\n",
        "            else:\n",
        "                out = f\"Unknown tool: {fn_name}\"\n",
        "            tool_outputs.append({\"tool_call_id\": tool_call[\"id\"], \"name\": fn_name, \"content\": out})\n",
        "\n",
        "        messages.append({\n",
        "            \"role\": \"assistant\",\n",
        "            \"tool_calls\": msg[\"tool_calls\"],\n",
        "            \"content\": None\n",
        "        })\n",
        "        for to in tool_outputs:\n",
        "            messages.append({\n",
        "                \"role\": \"tool\",\n",
        "                \"tool_call_id\": to[\"tool_call_id\"],\n",
        "                \"name\": to[\"name\"],\n",
        "                \"content\": to[\"content\"],\n",
        "            })\n",
        "        response2 = call_openai(messages)\n",
        "        final_msg = response2[\"choices\"][0][\"message\"][\"content\"]\n",
        "        return final_msg\n",
        "\n",
        "    return msg.get(\"content\", \"\")"
      ]
    },
    {
      "cell_type": "code",
      "execution_count": 7,
      "id": "c5d49ff1",
      "metadata": {
        "colab": {
          "base_uri": "https://localhost:8080/",
          "height": 591
        },
        "id": "c5d49ff1",
        "outputId": "355e13d5-91be-4166-c94a-b70ae631c304"
      },
      "outputs": [
        {
          "output_type": "stream",
          "name": "stdout",
          "text": [
            "Colab notebook detected. To show errors in colab notebook, set debug=True in launch()\n",
            "Running on public URL: https://ed826307b21ce2db42.gradio.live\n",
            "\n",
            "This share link expires in 72 hours. For free permanent hosting and GPU upgrades, run `gradio deploy` from Terminal to deploy to Spaces (https://huggingface.co/spaces)\n"
          ]
        },
        {
          "output_type": "display_data",
          "data": {
            "text/plain": [
              "<IPython.core.display.HTML object>"
            ],
            "text/html": [
              "<div><iframe src=\"https://ed826307b21ce2db42.gradio.live\" width=\"100%\" height=\"500\" allow=\"autoplay; camera; microphone; clipboard-read; clipboard-write;\" frameborder=\"0\" allowfullscreen></iframe></div>"
            ]
          },
          "metadata": {}
        },
        {
          "output_type": "execute_result",
          "data": {
            "text/plain": []
          },
          "metadata": {},
          "execution_count": 7
        }
      ],
      "source": [
        "import gradio as gr\n",
        "\n",
        "with gr.Blocks(fill_height=True, theme=gr.themes.Soft()) as demo:\n",
        "    gr.Markdown(\"# 📱 FixMyPhone Pop-Up — Business Agent\")\n",
        "    gr.Markdown(\"Ask about services, warranty, pricing approach, or leave your device+issue to get a quote.\")\n",
        "\n",
        "    # history: List[Tuple[user:str, assistant:str]]\n",
        "    def chat_fn(message, history):\n",
        "        internal_history = []\n",
        "        for u, a in history:\n",
        "            internal_history.append({\"user\": u or \"\", \"assistant\": a or \"\"})\n",
        "        reply = run_agent(message, internal_history)  # assumes run_agent is defined elsewhere\n",
        "        return reply\n",
        "\n",
        "    gr.ChatInterface(\n",
        "        fn=chat_fn,\n",
        "        # default type='chatbot' -> history is list of tuples\n",
        "        examples=[\n",
        "            \"Hi! Do you access my data during repairs?\",\n",
        "            \"I have a cracked iPhone 13 screen. Can I get a quote? Preferred kiosk: Downtown Mall.\",\n",
        "            \"Do you carry rare foldable hinge parts for the Galaxy Z Fold2?\",\n",
        "        ],\n",
        "        title=\"FixMyPhone Pop-Up Assistant\",\n",
        "        autofocus=True,\n",
        "        retry_btn=None,\n",
        "        undo_btn=None,\n",
        "        submit_btn=\"Send\",\n",
        "        clear_btn=\"Clear\",\n",
        "    )\n",
        "\n",
        "demo.launch(share=True)\n"
      ]
    },
    {
      "cell_type": "code",
      "execution_count": null,
      "id": "61195787",
      "metadata": {
        "colab": {
          "base_uri": "https://localhost:8080/"
        },
        "id": "61195787",
        "outputId": "1b6cd36f-3b78-44ae-d50d-1933a33f7b65"
      },
      "outputs": [
        {
          "output_type": "stream",
          "name": "stdout",
          "text": [
            "Quick test: I can help you with that! Could you please provide me with your name, email address, and the preferred kiosk location where you'd like to book a repair? Additionally, if there are any specific details about the charging issue, please share those as well.\n"
          ]
        }
      ],
      "source": [
        "\n",
        "if OPENAI_API_KEY:\n",
        "    print(\"Quick test:\", run_agent(\"my iphone 11 is not charging properly\", []))\n",
        "else:\n",
        "    print(\"Set OPENAI_API_KEY to run quick test.\")"
      ]
    }
  ],
  "metadata": {
    "colab": {
      "provenance": [],
      "gpuType": "T4"
    },
    "accelerator": "GPU",
    "language_info": {
      "name": "python"
    },
    "kernelspec": {
      "name": "python3",
      "display_name": "Python 3"
    }
  },
  "nbformat": 4,
  "nbformat_minor": 5
}